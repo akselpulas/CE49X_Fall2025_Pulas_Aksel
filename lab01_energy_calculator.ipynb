{
 "cells": [
  {
   "cell_type": "markdown",
   "id": "8a77807f92f26ee",
   "metadata": {},
   "source": [
    "# CE 49X: Building Energy Calculator\n",
    "## Lab Assignment 1 - Fall 2025\n",
    "## Dr. Eyuphan Koc - Bogazici University\n",
    "\n",
    "This notebook contains solutions for building energy analysis and cost calculations."
   ]
  },
  {
   "cell_type": "code",
   "execution_count": null,
   "id": "fbc121e30a2defb3",
   "metadata": {
    "ExecuteTime": {
     "end_time": "2025-10-08T21:03:14.208374Z",
     "start_time": "2025-10-08T21:03:14.202499Z"
    }
   },
   "outputs": [
    {
     "name": "stdout",
     "output_type": "stream",
     "text": [
      "Daily Energy Consumption:\n",
      "  Lighting: 450.00 kWh\n",
      "  HVAC: 1200.00 kWh\n",
      "  Equipment: 350.00 kWh\n",
      "  Other: 180.00 kWh\n",
      "  Total: 2180.00 kWh\n",
      "\n",
      "Monthly Consumption: 65400.00 kWh\n"
     ]
    }
   ],
   "source": [
    "# Exercise 1A: Daily Energy Calculation\n",
    "# Calculate daily and monthly energy consumption for a commercial building\n",
    "\n",
    "# Define energy consumption components (kWh per day)\n",
    "lighting = 450.0    # Lighting systems energy usage\n",
    "hvac = 1200.0       # Heating, ventilation, and air conditioning\n",
    "equipment = 350.0   # Office equipment and appliances\n",
    "other = 180.0       # Miscellaneous energy consumption\n",
    "\n",
    "# Calculate total daily consumption (kWh)\n",
    "daily_total = lighting + hvac + equipment + other\n",
    "\n",
    "# Convert to monthly consumption (assuming 30 days per month)\n",
    "monthly_total = daily_total * 30\n",
    "\n",
    "# Print results using f-strings\n",
    "print(\"Daily Energy Consumption:\")\n",
    "print(f\"  Lighting: {lighting:.2f} kWh\")\n",
    "print(f\"  HVAC: {hvac:.2f} kWh\")\n",
    "print(f\"  Equipment: {equipment:.2f} kWh\")\n",
    "print(f\"  Other: {other:.2f} kWh\")\n",
    "print(f\"  Total: {daily_total:.2f} kWh\")\n",
    "\n",
    "print(f\"\\nMonthly Consumption: {monthly_total:.2f} kWh\")\n"
   ]
  },
  {
   "cell_type": "code",
   "execution_count": null,
   "id": "b12d924b7caa867c",
   "metadata": {
    "ExecuteTime": {
     "end_time": "2025-10-08T21:03:14.229063Z",
     "start_time": "2025-10-08T21:03:14.224575Z"
    }
   },
   "outputs": [
    {
     "name": "stdout",
     "output_type": "stream",
     "text": [
      "Monthly Consumption:\n",
      "  65400.00 kWh\n",
      "  235440.00 MJ\n",
      "  235.44 GJ\n"
     ]
    }
   ],
   "source": [
    "# Exercise 1B: Unit Conversion\n",
    "# Convert energy consumption from kWh to MJ and GJ\n",
    "\n",
    "# Convert monthly consumption to MJ (Megajoules)\n",
    "# Conversion factor: 1 kWh = 3.6 MJ\n",
    "monthly_mj = monthly_total * 3.6\n",
    "\n",
    "# Convert MJ to GJ (Gigajoules)\n",
    "# Conversion factor: 1 GJ = 1000 MJ\n",
    "monthly_gj = monthly_mj / 1000\n",
    "\n",
    "# Display results in different energy units\n",
    "print(\"Monthly Consumption:\")\n",
    "print(f\"  {monthly_total:.2f} kWh\")\n",
    "print(f\"  {monthly_mj:.2f} MJ\")\n",
    "print(f\"  {monthly_gj:.2f} GJ\")"
   ]
  },
  {
   "cell_type": "code",
   "execution_count": null,
   "id": "c8c97f0b71c7df6b",
   "metadata": {
    "ExecuteTime": {
     "end_time": "2025-10-08T21:03:14.248624Z",
     "start_time": "2025-10-08T21:03:14.243690Z"
    }
   },
   "outputs": [
    {
     "name": "stdout",
     "output_type": "stream",
     "text": [
      "Energy Costs:\n",
      "  Monthly: $7,848.00\n",
      "  Annual: $94,176.00\n"
     ]
    }
   ],
   "source": [
    "# Exercise 1C: Cost Calculation\n",
    "# Calculate energy costs using standard electricity rate\n",
    "\n",
    "# Define standard electricity rate (USD per kWh)\n",
    "standard_rate = 0.12  # USD/kWh\n",
    "\n",
    "# Calculate monthly energy cost\n",
    "monthly_cost = monthly_total * standard_rate\n",
    "\n",
    "# Calculate annual energy cost (12 months)\n",
    "annual_cost = monthly_cost * 12\n",
    "\n",
    "# Display costs formatted as currency\n",
    "print(\"Energy Costs:\")\n",
    "print(f\"  Monthly: ${monthly_cost:,.2f}\")\n",
    "print(f\"  Annual: ${annual_cost:,.2f}\")"
   ]
  },
  {
   "cell_type": "code",
   "execution_count": null,
   "id": "74529a553f3f6bfb",
   "metadata": {
    "ExecuteTime": {
     "end_time": "2025-10-08T21:03:14.266491Z",
     "start_time": "2025-10-08T21:03:14.260971Z"
    }
   },
   "outputs": [
    {
     "name": "stdout",
     "output_type": "stream",
     "text": [
      "Office A: 85000 kWh / 2500 m^2 = 34.00 kWh/m^2/month\n",
      "Retail B: 62000 kWh / 1800 m^2 = 34.44 kWh/m^2/month\n",
      "School C: 48000 kWh / 3200 m^2 = 15.00 kWh/m^2/month\n",
      "Hospital D: 125000 kWh / 4000 m^2 = 31.25 kWh/m^2/month\n",
      "Apartment E: 71000 kWh / 2800 m^2 = 25.36 kWh/m^2/month\n"
     ]
    }
   ],
   "source": [
    "# Exercise 2A: Energy Intensity Calculation\n",
    "# Analyze energy consumption per unit area for multiple buildings\n",
    "\n",
    "# Building data: names, monthly consumption, and floor areas\n",
    "buildings = ['Office A', 'Retail B', 'School C', 'Hospital D', 'Apartment E']\n",
    "monthly_consumption = [85000, 62000, 48000, 125000, 71000]  # kWh per month\n",
    "floor_area = [2500, 1800, 3200, 4000, 2800]  # square meters\n",
    "\n",
    "# Formula: Energy Intensity = Monthly Consumption / Floor Area (kWh/m²/month)\n",
    "energy_intensity = []  # List to store calculated intensities\n",
    "\n",
    "# Calculate energy intensity for each building using enumerate\n",
    "for i, building in enumerate(buildings):\n",
    "    # Calculate energy intensity (kWh per square meter per month)\n",
    "    intensity = monthly_consumption[i] / floor_area[i]\n",
    "    \n",
    "    # Store result in list\n",
    "    energy_intensity.append(intensity)\n",
    "    \n",
    "    # Display building information and calculated intensity\n",
    "    print(f\"{building}: {monthly_consumption[i]} kWh / {floor_area[i]} m^2 = {intensity:.2f} kWh/m^2/month\")"
   ]
  },
  {
   "cell_type": "code",
   "execution_count": null,
   "id": "3daba774b639e659",
   "metadata": {
    "ExecuteTime": {
     "end_time": "2025-10-08T21:03:14.284483Z",
     "start_time": "2025-10-08T21:03:14.277957Z"
    }
   },
   "outputs": [
    {
     "name": "stdout",
     "output_type": "stream",
     "text": [
      "==================================================\n",
      "Statistical Summary\n",
      "==================================================\n",
      "Total Monthly Consumption: 391,000 kWh\n",
      "Average Monthly Consumption: 78,200 kWh\n",
      "Max Monthly Consumption: 125,000 kWh\n",
      "Min Monthly Consumption: 48,000 kWh\n"
     ]
    }
   ],
   "source": [
    "# Exercise 2B: Statistical Analysis\n",
    "# Calculate summary statistics for building energy consumption\n",
    "\n",
    "# Calculate total energy consumption across all buildings\n",
    "total_consumption = sum(monthly_consumption)\n",
    "\n",
    "# Calculate average energy consumption per building\n",
    "average_consumption = total_consumption / len(monthly_consumption)\n",
    "\n",
    "# Find highest and lowest energy consumption values\n",
    "max_consumption = max(monthly_consumption)\n",
    "min_consumption = min(monthly_consumption)\n",
    "\n",
    "# Display statistical summary report\n",
    "print(\"=\" * 50)\n",
    "print(\"Statistical Summary\")\n",
    "print(\"=\" * 50)\n",
    "print(f\"Total Monthly Consumption: {total_consumption:,.0f} kWh\")\n",
    "print(f\"Average Monthly Consumption: {average_consumption:,.0f} kWh\")\n",
    "print(f\"Max Monthly Consumption: {max_consumption:,.0f} kWh\")\n",
    "print(f\"Min Monthly Consumption: {min_consumption:,.0f} kWh\")"
   ]
  },
  {
   "cell_type": "code",
   "execution_count": null,
   "id": "8fd4be461f57c603",
   "metadata": {
    "ExecuteTime": {
     "end_time": "2025-10-08T21:03:14.299992Z",
     "start_time": "2025-10-08T21:03:14.294139Z"
    }
   },
   "outputs": [
    {
     "name": "stdout",
     "output_type": "stream",
     "text": [
      "\n",
      "Buildings with above-average consumption:\n",
      "['Office A', 'Hospital D']\n",
      "Count: 2 out of 5 buildings\n"
     ]
    }
   ],
   "source": [
    "# Exercise 2C: Buildings Above Average\n",
    "# Identify buildings with energy consumption above the average\n",
    "\n",
    "above_average = []  # List to store buildings above average consumption\n",
    "\n",
    "# Check each building's consumption against the average\n",
    "for i, building in enumerate(buildings):\n",
    "    # If building consumption exceeds average, add to list\n",
    "    if monthly_consumption[i] > average_consumption:\n",
    "        above_average.append(building)\n",
    "\n",
    "# Display results\n",
    "print(f\"\\nBuildings with above-average consumption:\")\n",
    "print(above_average)\n",
    "print(f\"Count: {len(above_average)} out of {len(buildings)} buildings\")"
   ]
  },
  {
   "cell_type": "code",
   "execution_count": null,
   "id": "c640a44cd060c42d",
   "metadata": {
    "ExecuteTime": {
     "end_time": "2025-10-08T21:03:14.317066Z",
     "start_time": "2025-10-08T21:03:14.311989Z"
    }
   },
   "outputs": [
    {
     "name": "stdout",
     "output_type": "stream",
     "text": [
      "Annual Energy Intensity:\n",
      "Office A: 408.00 kWh/m^2/year\n",
      "Retail B: 413.33 kWh/m^2/year\n",
      "School C: 180.00 kWh/m^2/year\n",
      "Hospital D: 375.00 kWh/m^2/year\n",
      "Apartment E: 304.29 kWh/m^2/year\n"
     ]
    }
   ],
   "source": [
    "# Exercise 3A: Annual Energy Calculation\n",
    "# Convert monthly energy intensity to annual values\n",
    "\n",
    "annual_intensity = []  # List to store annual energy intensities\n",
    "\n",
    "# Convert each building's monthly intensity to annual intensity\n",
    "for intensity in energy_intensity:\n",
    "    # Annual intensity = monthly intensity × 12 months\n",
    "    annual = intensity * 12\n",
    "    annual_intensity.append(annual)\n",
    "\n",
    "# Display annual energy intensity for each building\n",
    "print(\"Annual Energy Intensity:\")\n",
    "for i, building in enumerate(buildings):\n",
    "    print(f\"{building}: {annual_intensity[i]:.2f} kWh/m^2/year\")"
   ]
  },
  {
   "cell_type": "code",
   "execution_count": null,
   "id": "8318de6ea6c36936",
   "metadata": {
    "ExecuteTime": {
     "end_time": "2025-10-08T21:03:14.340227Z",
     "start_time": "2025-10-08T21:03:14.330322Z"
    }
   },
   "outputs": [
    {
     "name": "stdout",
     "output_type": "stream",
     "text": [
      "\n",
      "============================================================\n",
      "Energy Efficiency Report\n",
      "============================================================\n",
      "Office A: 408.00 kWh/m^2/year - Rating: F\n",
      "Retail B: 413.33 kWh/m^2/year - Rating: F\n",
      "School C: 180.00 kWh/m^2/year - Rating: D\n",
      "Hospital D: 375.00 kWh/m^2/year - Rating: F\n",
      "Apartment E: 304.29 kWh/m^2/year - Rating: F\n"
     ]
    }
   ],
   "source": [
    "# Exercise 3B: Efficiency Classification\n",
    "# Classify buildings based on annual energy intensity using rating system\n",
    "\n",
    "ratings = []  # List to store efficiency ratings\n",
    "\n",
    "# Classify each building based on annual energy intensity\n",
    "for i, building in enumerate(buildings):\n",
    "    intensity = annual_intensity[i]\n",
    "    \n",
    "    # Assign efficiency rating based on intensity thresholds\n",
    "    if intensity < 50:\n",
    "        rating = 'A'      # Excellent: < 50 kWh/m²/year\n",
    "    elif intensity < 100:\n",
    "        rating = 'B'      # Good: 50-100 kWh/m²/year\n",
    "    elif intensity < 150:\n",
    "        rating = 'C'      # Average: 100-150 kWh/m²/year\n",
    "    elif intensity < 200:\n",
    "        rating = 'D'      # Poor: 150-200 kWh/m²/year\n",
    "    else:\n",
    "        rating = 'F'      # Very Poor: > 200 kWh/m²/year\n",
    "    \n",
    "    ratings.append(rating)\n",
    "\n",
    "# Display efficiency report for all buildings\n",
    "print(\"\\n\" + \"=\" * 60)\n",
    "print(\"Energy Efficiency Report\")\n",
    "print(\"=\" * 60)\n",
    "for i, building in enumerate(buildings):\n",
    "    print(f\"{building}: {annual_intensity[i]:.2f} kWh/m^2/year - Rating: {ratings[i]}\")"
   ]
  },
  {
   "cell_type": "code",
   "execution_count": null,
   "id": "808f991510abd7f9",
   "metadata": {
    "ExecuteTime": {
     "end_time": "2025-10-08T21:03:14.360899Z",
     "start_time": "2025-10-08T21:03:14.354954Z"
    }
   },
   "outputs": [
    {
     "name": "stdout",
     "output_type": "stream",
     "text": [
      "\n",
      "Rating Summary:\n",
      "  A (Excellent): 0\n",
      "  B (Good): 0\n",
      "  C (Average): 0\n",
      "  D (Poor): 1\n",
      "  F (Very Poor): 4\n",
      "Most common rating: F\n"
     ]
    }
   ],
   "source": [
    "# Exercise 3C: Rating Summary\n",
    "# Analyze distribution of efficiency ratings across buildings\n",
    "\n",
    "# Count number of buildings in each efficiency rating category\n",
    "count_a = ratings.count('A')  # Excellent\n",
    "count_b = ratings.count('B')  # Good\n",
    "count_c = ratings.count('C')  # Average\n",
    "count_d = ratings.count('D')  # Poor\n",
    "count_f = ratings.count('F')  # Very Poor\n",
    "\n",
    "# Display rating distribution summary\n",
    "print(\"\\nRating Summary:\")\n",
    "print(f\"  A (Excellent): {count_a}\")\n",
    "print(f\"  B (Good): {count_b}\")\n",
    "print(f\"  C (Average): {count_c}\")\n",
    "print(f\"  D (Poor): {count_d}\")\n",
    "print(f\"  F (Very Poor): {count_f}\")\n",
    "\n",
    "# Find the most frequently occurring rating\n",
    "counts = {'A': count_a, 'B': count_b, 'C': count_c, 'D': count_d, 'F': count_f}\n",
    "most_common = max(counts, key=counts.get)\n",
    "print(f\"Most common rating: {most_common}\")"
   ]
  },
  {
   "cell_type": "code",
   "execution_count": null,
   "id": "3522cbad1e5a3934",
   "metadata": {
    "ExecuteTime": {
     "end_time": "2025-10-08T21:03:14.377951Z",
     "start_time": "2025-10-08T21:03:14.373677Z"
    }
   },
   "outputs": [
    {
     "name": "stdout",
     "output_type": "stream",
     "text": [
      "Monthly cost for 50000 kWh at $0.12/kWh: $6,000.00\n"
     ]
    }
   ],
   "source": [
    "# Exercise 4A: Simple Cost Function\n",
    "# Create function to calculate monthly energy cost\n",
    "\n",
    "def calculate_monthly_cost(consumption_kwh, rate_per_kwh):\n",
    "    \"\"\"\n",
    "    Calculate monthly energy cost based on consumption and rate.\n",
    "\n",
    "    Parameters:\n",
    "        consumption_kwh (float): Monthly energy consumption in kWh\n",
    "        rate_per_kwh (float): Energy rate in USD/kWh\n",
    "\n",
    "    Returns:\n",
    "        float: Monthly cost in USD\n",
    "    \"\"\"\n",
    "    # Calculate cost by multiplying consumption by rate\n",
    "    cost = consumption_kwh * rate_per_kwh\n",
    "    return cost\n",
    "\n",
    "# Test the function with sample data\n",
    "test_consumption = 50000  # kWh\n",
    "test_rate = 0.12  # USD/kWh\n",
    "result = calculate_monthly_cost(test_consumption, test_rate)\n",
    "print(f\"Monthly cost for {test_consumption} kWh at ${test_rate}/kWh: ${result:,.2f}\")"
   ]
  },
  {
   "cell_type": "code",
   "execution_count": null,
   "id": "96e7c11eaf637d88",
   "metadata": {
    "ExecuteTime": {
     "end_time": "2025-10-08T21:03:14.400130Z",
     "start_time": "2025-10-08T21:03:14.393320Z"
    }
   },
   "outputs": [
    {
     "name": "stdout",
     "output_type": "stream",
     "text": [
      "\n",
      "Tiered Pricing Analysis for 85000 kWh:\n",
      "  Peak cost (60%): $7,650.00\n",
      "  Off-peak cost (40%): $2,720.00\n",
      "  Total cost: $10,370.00\n"
     ]
    }
   ],
   "source": [
    "# Exercise 4B: Peak/Off-Peak Cost Function\n",
    "# Create function to calculate energy cost with tiered pricing\n",
    "\n",
    "def calculate_tiered_cost(total_consumption, peak_percentage=0.6):\n",
    "    \"\"\"\n",
    "    Calculate energy cost using peak and off-peak pricing structure.\n",
    "\n",
    "    Parameters:\n",
    "        total_consumption (float): Total monthly consumption in kWh\n",
    "        peak_percentage (float): Fraction of consumption during peak hours (default 0.6)\n",
    "\n",
    "    Returns:\n",
    "        tuple: (peak_cost, off_peak_cost, total_cost) in USD\n",
    "    \"\"\"\n",
    "    # Define electricity rates for different time periods\n",
    "    peak_rate = 0.15  # USD/kWh (peak hours: 08:00-20:00)\n",
    "    off_peak_rate = 0.08  # USD/kWh (off-peak hours: 20:00-08:00)\n",
    "\n",
    "    # Calculate consumption during peak hours\n",
    "    peak_consumption = total_consumption * peak_percentage\n",
    "\n",
    "    # Calculate consumption during off-peak hours\n",
    "    off_peak_consumption = total_consumption * (1 - peak_percentage)\n",
    "\n",
    "    # Calculate costs for each time period\n",
    "    peak_cost = peak_consumption * peak_rate\n",
    "    off_peak_cost = off_peak_consumption * off_peak_rate\n",
    "    total_cost = peak_cost + off_peak_cost\n",
    "\n",
    "    return peak_cost, off_peak_cost, total_cost\n",
    "\n",
    "# Test the function with sample data\n",
    "test_consumption = 85000  # kWh\n",
    "peak_cost, off_peak_cost, total_cost = calculate_tiered_cost(test_consumption, 0.6)\n",
    "\n",
    "print(f\"\\nTiered Pricing Analysis for {test_consumption} kWh:\")\n",
    "print(f\"  Peak cost (60%): ${peak_cost:,.2f}\")\n",
    "print(f\"  Off-peak cost (40%): ${off_peak_cost:,.2f}\")\n",
    "print(f\"  Total cost: ${total_cost:,.2f}\")"
   ]
  },
  {
   "cell_type": "code",
   "execution_count": null,
   "id": "1e77fa4dbcfc1332",
   "metadata": {
    "ExecuteTime": {
     "end_time": "2025-10-08T21:03:14.419626Z",
     "start_time": "2025-10-08T21:03:14.412916Z"
    }
   },
   "outputs": [
    {
     "name": "stdout",
     "output_type": "stream",
     "text": [
      "============================================================\n",
      "Efficiency Comparison\n",
      "============================================================\n",
      "Most efficient: School C\n",
      "  Intensity: 180.00 kWh/m^2/year\n",
      "  Rating: D\n",
      "Least efficient: Retail B\n",
      "  Intensity: 413.33 kWh/m^2/year\n",
      "  Rating: F\n",
      "\n",
      "Percentage difference: 129.6%\n"
     ]
    }
   ],
   "source": [
    "# Exercise 5A: Most and Least Efficient Buildings\n",
    "# Identify buildings with highest and lowest energy efficiency\n",
    "\n",
    "# Find minimum and maximum annual energy intensities\n",
    "min_intensity = min(annual_intensity)  # Most efficient (lowest intensity)\n",
    "max_intensity = max(annual_intensity)  # Least efficient (highest intensity)\n",
    "\n",
    "# Find indices of most and least efficient buildings\n",
    "min_index = annual_intensity.index(min_intensity)\n",
    "max_index = annual_intensity.index(max_intensity)\n",
    "\n",
    "# Get building names for most and least efficient\n",
    "most_efficient = buildings[min_index]\n",
    "least_efficient = buildings[max_index]\n",
    "\n",
    "# Display efficiency comparison results\n",
    "print(\"=\" * 60)\n",
    "print(\"Efficiency Comparison\")\n",
    "print(\"=\" * 60)\n",
    "print(f\"Most efficient: {most_efficient}\")\n",
    "print(f\"  Intensity: {min_intensity:.2f} kWh/m^2/year\")\n",
    "print(f\"  Rating: {ratings[min_index]}\")\n",
    "print(f\"Least efficient: {least_efficient}\")\n",
    "print(f\"  Intensity: {max_intensity:.2f} kWh/m^2/year\")\n",
    "print(f\"  Rating: {ratings[max_index]}\")\n",
    "\n",
    "# Calculate percentage difference between most and least efficient\n",
    "percentage_diff = ((max_intensity - min_intensity) / min_intensity) * 100\n",
    "print(f\"\\nPercentage difference: {percentage_diff:.1f}%\")"
   ]
  },
  {
   "cell_type": "code",
   "execution_count": null,
   "id": "6fafa5110b8801ec",
   "metadata": {
    "ExecuteTime": {
     "end_time": "2025-10-08T21:03:14.440884Z",
     "start_time": "2025-10-08T21:03:14.434013Z"
    }
   },
   "outputs": [
    {
     "name": "stdout",
     "output_type": "stream",
     "text": [
      "\n",
      "============================================================\n",
      "Energy Savings Potential\n",
      "============================================================\n",
      "Target: Rating B (100 kWh/m^2/year)\n",
      "\n",
      "Office A: Could save 770,000 kWh/year\n",
      "Retail B: Could save 564,000 kWh/year\n",
      "School C: Could save 256,000 kWh/year\n",
      "Hospital D: Could save 1,100,000 kWh/year\n",
      "Apartment E: Could save 572,000 kWh/year\n",
      "\n",
      "Total Potential Savings: 3,262,000 kWh/year\n",
      "Annual Cost Savings: $391,440.00\n"
     ]
    }
   ],
   "source": [
    "# Exercise 5B: Energy Savings Potential\n",
    "# Calculate potential energy savings if all buildings achieve Rating B efficiency\n",
    "\n",
    "target_intensity = 100  # kWh/m^2/year for Rating B (Good efficiency)\n",
    "total_savings_kwh = 0  # Total potential energy savings\n",
    "\n",
    "print(\"\\n\" + \"=\" * 60)\n",
    "print(\"Energy Savings Potential\")\n",
    "print(\"=\" * 60)\n",
    "print(f\"Target: Rating B ({target_intensity} kWh/m^2/year)\\n\")\n",
    "\n",
    "# Analyze each building's savings potential\n",
    "for i, building in enumerate(buildings):\n",
    "    # Only calculate savings for buildings with rating worse than B\n",
    "    if ratings[i] in ['C', 'D', 'F']:\n",
    "        # Calculate current annual energy consumption\n",
    "        current_consumption = annual_intensity[i] * floor_area[i]\n",
    "        \n",
    "        # Calculate target annual consumption at Rating B level\n",
    "        target_consumption = target_intensity * floor_area[i]\n",
    "\n",
    "        # Calculate potential energy savings\n",
    "        savings = current_consumption - target_consumption\n",
    "\n",
    "        # Add to total savings\n",
    "        total_savings_kwh += savings\n",
    "\n",
    "        print(f\"{building}: Could save {savings:,.0f} kWh/year\")\n",
    "\n",
    "# Calculate annual cost savings using standard electricity rate\n",
    "cost_savings = total_savings_kwh * 0.12  # Standard rate: $0.12/kWh\n",
    "\n",
    "print(f\"\\nTotal Potential Savings: {total_savings_kwh:,.0f} kWh/year\")\n",
    "print(f\"Annual Cost Savings: ${cost_savings:,.2f}\")"
   ]
  },
  {
   "cell_type": "code",
   "execution_count": null,
   "id": "2876be98ece3a54c",
   "metadata": {
    "ExecuteTime": {
     "end_time": "2025-10-09T09:21:23.022468Z",
     "start_time": "2025-10-09T09:20:55.529284Z"
    }
   },
   "outputs": [
    {
     "name": "stdout",
     "output_type": "stream",
     "text": [
      "Interactive Building Energy Calculator\n",
      "============================================================\n",
      "\n",
      "=== Analysis for Tech Center ===\n",
      "Monthly Consumption: 95,000 kWh\n",
      "Floor Area: 3,000 m²\n",
      "Energy Intensity: 380.00 kWh/m²/year\n",
      "Efficiency Rating: F (Very Poor)\n",
      "Monthly Cost (tiered): $11,590.00\n",
      "Thank you for using the calculator!\n"
     ]
    }
   ],
   "source": [
    "# Bonus: Interactive Energy Calculator\n",
    "# Create an interactive program for analyzing building energy consumption\n",
    "\n",
    "print(\"Interactive Building Energy Calculator\")\n",
    "print(\"=\" * 60)\n",
    "\n",
    "# Main program loop - allows analysis of multiple buildings\n",
    "while True:\n",
    "    # Get building name from user\n",
    "    name = input(\"\\nEnter building name (or 'quit' to exit): \")\n",
    "\n",
    "    # Check if user wants to exit\n",
    "    if name.lower() == 'quit':\n",
    "        print(\"Thank you for using the calculator!\")\n",
    "        break\n",
    "\n",
    "    try:\n",
    "        # Get energy consumption and floor area from user\n",
    "        consumption = float(input(\"Enter monthly consumption (kWh): \"))\n",
    "        area = float(input(\"Enter floor area (m²): \"))\n",
    "\n",
    "        # Calculate energy intensity metrics\n",
    "        monthly_intensity = consumption / area  # kWh/m²/month\n",
    "        annual_intensity = monthly_intensity * 12  # kWh/m²/year\n",
    "\n",
    "        # Determine efficiency rating based on annual intensity\n",
    "        if annual_intensity < 50:\n",
    "            rating = 'A (Excellent)'\n",
    "        elif annual_intensity < 100:\n",
    "            rating = 'B (Good)'\n",
    "        elif annual_intensity < 150:\n",
    "            rating = 'C (Average)'\n",
    "        elif annual_intensity < 200:\n",
    "            rating = 'D (Poor)'\n",
    "        else:\n",
    "            rating = 'F (Very Poor)'\n",
    "\n",
    "        # Calculate monthly cost using tiered pricing system\n",
    "        peak_cost, off_peak_cost, monthly_cost = calculate_tiered_cost(consumption, 0.6)\n",
    "\n",
    "        # Display comprehensive analysis report\n",
    "        print(f\"\\n=== Analysis for {name} ===\")\n",
    "        print(f\"Monthly Consumption: {consumption:,.0f} kWh\")\n",
    "        print(f\"Floor Area: {area:,.0f} m²\")\n",
    "        print(f\"Energy Intensity: {annual_intensity:.2f} kWh/m²/year\")\n",
    "        print(f\"Efficiency Rating: {rating}\")\n",
    "        print(f\"Monthly Cost (tiered): ${monthly_cost:,.2f}\")\n",
    "\n",
    "    except ValueError:\n",
    "        # Handle invalid numeric input\n",
    "        print(\"Error: Please enter valid numbers!\")\n",
    "    except Exception as e:\n",
    "        # Handle any other unexpected errors\n",
    "        print(f\"Error: {e}\")"
   ]
  }
 ],
 "metadata": {
  "kernelspec": {
   "display_name": "Python 3",
   "language": "python",
   "name": "python3"
  },
  "language_info": {
   "codemirror_mode": {
    "name": "ipython",
    "version": 2
   },
   "file_extension": ".py",
   "mimetype": "text/x-python",
   "name": "python",
   "nbconvert_exporter": "python",
   "pygments_lexer": "ipython2",
   "version": "3.13.7"
  }
 },
 "nbformat": 4,
 "nbformat_minor": 5
}
